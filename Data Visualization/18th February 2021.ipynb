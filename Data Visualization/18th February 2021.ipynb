{
 "cells": [
  {
   "cell_type": "code",
   "execution_count": 1,
   "metadata": {},
   "outputs": [],
   "source": [
    "import pandas as pd\n",
    "import numpy as np\n",
    "import matplotlib.pyplot as plt\n",
    "%matplotlib inline"
   ]
  },
  {
   "cell_type": "code",
   "execution_count": 3,
   "metadata": {},
   "outputs": [],
   "source": [
    "df = pd.read_csv(\"HR Data.csv\")"
   ]
  },
  {
   "cell_type": "code",
   "execution_count": 4,
   "metadata": {},
   "outputs": [
    {
     "data": {
      "text/plain": [
       "Index(['Emp ID', 'Name Prefix', 'First Name', 'Middle Initial', 'Last Name',\n",
       "       'Gender', 'E Mail', 'Father's Name', 'Mother's Name',\n",
       "       'Mother's Maiden Name', 'Date of Birth', 'Time of Birth', 'Age in Yrs.',\n",
       "       'Weight in Kgs.', 'Date of Joining', 'Quarter of Joining',\n",
       "       'Half of Joining', 'Year of Joining', 'Month of Joining',\n",
       "       'Month Name of Joining', 'Short Month', 'Day of Joining',\n",
       "       'DOW of Joining', 'Short DOW', 'Age in Company (Years)', 'Salary',\n",
       "       'Last % Hike', 'SSN', 'Phone No. ', 'Place Name', 'County', 'City',\n",
       "       'State', 'Zip', 'Region', 'User Name', 'Password'],\n",
       "      dtype='object')"
      ]
     },
     "execution_count": 4,
     "metadata": {},
     "output_type": "execute_result"
    }
   ],
   "source": [
    "df.describe()\n",
    "df.columns"
   ]
  },
  {
   "cell_type": "code",
   "execution_count": 4,
   "metadata": {},
   "outputs": [
    {
     "name": "stdout",
     "output_type": "stream",
     "text": [
      "<class 'pandas.core.frame.DataFrame'>\n",
      "RangeIndex: 50000 entries, 0 to 49999\n",
      "Data columns (total 37 columns):\n",
      " #   Column                  Non-Null Count  Dtype  \n",
      "---  ------                  --------------  -----  \n",
      " 0   Emp ID                  50000 non-null  int64  \n",
      " 1   Name Prefix             50000 non-null  object \n",
      " 2   First Name              50000 non-null  object \n",
      " 3   Middle Initial          50000 non-null  object \n",
      " 4   Last Name               50000 non-null  object \n",
      " 5   Gender                  50000 non-null  object \n",
      " 6   E Mail                  50000 non-null  object \n",
      " 7   Father's Name           50000 non-null  object \n",
      " 8   Mother's Name           50000 non-null  object \n",
      " 9   Mother's Maiden Name    50000 non-null  object \n",
      " 10  Date of Birth           50000 non-null  object \n",
      " 11  Time of Birth           50000 non-null  object \n",
      " 12  Age in Yrs.             50000 non-null  float64\n",
      " 13  Weight in Kgs.          50000 non-null  int64  \n",
      " 14  Date of Joining         50000 non-null  object \n",
      " 15  Quarter of Joining      50000 non-null  object \n",
      " 16  Half of Joining         50000 non-null  object \n",
      " 17  Year of Joining         50000 non-null  int64  \n",
      " 18  Month of Joining        50000 non-null  int64  \n",
      " 19  Month Name of Joining   50000 non-null  object \n",
      " 20  Short Month             50000 non-null  object \n",
      " 21  Day of Joining          50000 non-null  int64  \n",
      " 22  DOW of Joining          50000 non-null  object \n",
      " 23  Short DOW               50000 non-null  object \n",
      " 24  Age in Company (Years)  50000 non-null  float64\n",
      " 25  Salary                  50000 non-null  int64  \n",
      " 26  Last % Hike             50000 non-null  object \n",
      " 27  SSN                     50000 non-null  object \n",
      " 28  Phone No.               50000 non-null  object \n",
      " 29  Place Name              50000 non-null  object \n",
      " 30  County                  50000 non-null  object \n",
      " 31  City                    50000 non-null  object \n",
      " 32  State                   50000 non-null  object \n",
      " 33  Zip                     50000 non-null  int64  \n",
      " 34  Region                  50000 non-null  object \n",
      " 35  User Name               50000 non-null  object \n",
      " 36  Password                50000 non-null  object \n",
      "dtypes: float64(2), int64(7), object(28)\n",
      "memory usage: 14.1+ MB\n"
     ]
    },
    {
     "data": {
      "text/plain": [
       "dtype('int64')"
      ]
     },
     "execution_count": 4,
     "metadata": {},
     "output_type": "execute_result"
    }
   ],
   "source": [
    "df.isnull().sum()\n",
    "df.info()\n",
    "df['Emp ID'].dtype"
   ]
  },
  {
   "cell_type": "code",
   "execution_count": 5,
   "metadata": {},
   "outputs": [],
   "source": [
    "#df['Emp ID'] = str(df['Emp ID'])\n",
    "#df['Zip'] = str(df['Zip'])\n",
    "df['Date of Birth'] = pd.to_datetime(df['Date of Birth'])\n",
    "df['Date of Joining'] = pd.to_datetime(df['Date of Joining'])\n"
   ]
  },
  {
   "cell_type": "code",
   "execution_count": 6,
   "metadata": {},
   "outputs": [
    {
     "name": "stdout",
     "output_type": "stream",
     "text": [
      "<class 'pandas.core.frame.DataFrame'>\n",
      "RangeIndex: 50000 entries, 0 to 49999\n",
      "Data columns (total 37 columns):\n",
      " #   Column                  Non-Null Count  Dtype         \n",
      "---  ------                  --------------  -----         \n",
      " 0   Emp ID                  50000 non-null  int64         \n",
      " 1   Name Prefix             50000 non-null  object        \n",
      " 2   First Name              50000 non-null  object        \n",
      " 3   Middle Initial          50000 non-null  object        \n",
      " 4   Last Name               50000 non-null  object        \n",
      " 5   Gender                  50000 non-null  object        \n",
      " 6   E Mail                  50000 non-null  object        \n",
      " 7   Father's Name           50000 non-null  object        \n",
      " 8   Mother's Name           50000 non-null  object        \n",
      " 9   Mother's Maiden Name    50000 non-null  object        \n",
      " 10  Date of Birth           50000 non-null  datetime64[ns]\n",
      " 11  Time of Birth           50000 non-null  object        \n",
      " 12  Age in Yrs.             50000 non-null  float64       \n",
      " 13  Weight in Kgs.          50000 non-null  int64         \n",
      " 14  Date of Joining         50000 non-null  datetime64[ns]\n",
      " 15  Quarter of Joining      50000 non-null  object        \n",
      " 16  Half of Joining         50000 non-null  object        \n",
      " 17  Year of Joining         50000 non-null  int64         \n",
      " 18  Month of Joining        50000 non-null  int64         \n",
      " 19  Month Name of Joining   50000 non-null  object        \n",
      " 20  Short Month             50000 non-null  object        \n",
      " 21  Day of Joining          50000 non-null  int64         \n",
      " 22  DOW of Joining          50000 non-null  object        \n",
      " 23  Short DOW               50000 non-null  object        \n",
      " 24  Age in Company (Years)  50000 non-null  float64       \n",
      " 25  Salary                  50000 non-null  int64         \n",
      " 26  Last % Hike             50000 non-null  object        \n",
      " 27  SSN                     50000 non-null  object        \n",
      " 28  Phone No.               50000 non-null  object        \n",
      " 29  Place Name              50000 non-null  object        \n",
      " 30  County                  50000 non-null  object        \n",
      " 31  City                    50000 non-null  object        \n",
      " 32  State                   50000 non-null  object        \n",
      " 33  Zip                     50000 non-null  int64         \n",
      " 34  Region                  50000 non-null  object        \n",
      " 35  User Name               50000 non-null  object        \n",
      " 36  Password                50000 non-null  object        \n",
      "dtypes: datetime64[ns](2), float64(2), int64(7), object(26)\n",
      "memory usage: 14.1+ MB\n"
     ]
    }
   ],
   "source": [
    "df.info()"
   ]
  },
  {
   "cell_type": "code",
   "execution_count": 5,
   "metadata": {},
   "outputs": [],
   "source": [
    "columns_reduce =  ['Emp ID', 'Name Prefix', 'First Name', 'Middle Initial', 'Last Name',\n",
    "       'Gender', 'E Mail', 'Father\\'s Name', 'Mother\\'s Name',\n",
    "       'Mother\\'s Maiden Name', 'Date of Birth', 'Time of Birth', 'Age in Yrs.',\n",
    "       'Weight in Kgs.', 'Date of Joining', 'Quarter of Joining',\n",
    "       'Half of Joining', 'Year of Joining', 'Month of Joining','Short Month', 'Day of Joining',\n",
    "       'DOW of Joining', 'Age in Company (Years)', 'Salary',\n",
    "       'Last % Hike','Phone No. ', 'Place Name', 'County', 'City',\n",
    "       'State', 'Region', 'User Name']"
   ]
  },
  {
   "cell_type": "code",
   "execution_count": 7,
   "metadata": {},
   "outputs": [
    {
     "data": {
      "text/plain": [
       "Emp ID                    48675\n",
       "Name Prefix                   7\n",
       "First Name                 5154\n",
       "Middle Initial               26\n",
       "Last Name                 17537\n",
       "Gender                        2\n",
       "E Mail                    49998\n",
       "Father's Name             49981\n",
       "Mother's Name             50000\n",
       "Mother's Maiden Name      17483\n",
       "Date of Birth             13825\n",
       "Time of Birth             37835\n",
       "Age in Yrs.                3901\n",
       "Weight in Kgs.               51\n",
       "Date of Joining           11101\n",
       "Quarter of Joining            4\n",
       "Half of Joining               2\n",
       "Year of Joining              40\n",
       "Month of Joining             12\n",
       "Month Name of Joining        12\n",
       "Short Month                  12\n",
       "Day of Joining               31\n",
       "DOW of Joining                7\n",
       "Short DOW                     7\n",
       "Age in Company (Years)     3617\n",
       "Salary                    43005\n",
       "Last % Hike                  31\n",
       "SSN                       49926\n",
       "Phone No.                 50000\n",
       "Place Name                14552\n",
       "County                     2465\n",
       "City                      14552\n",
       "State                        51\n",
       "Zip                       29809\n",
       "Region                        4\n",
       "User Name                 49835\n",
       "Password                  50000\n",
       "dtype: int64"
      ]
     },
     "execution_count": 7,
     "metadata": {},
     "output_type": "execute_result"
    }
   ],
   "source": [
    "df.nunique()"
   ]
  },
  {
   "cell_type": "code",
   "execution_count": 6,
   "metadata": {},
   "outputs": [
    {
     "data": {
      "text/plain": [
       "(50000, 32)"
      ]
     },
     "execution_count": 6,
     "metadata": {},
     "output_type": "execute_result"
    }
   ],
   "source": [
    "df.nunique()\n",
    "df.shape\n",
    "df2 = df[columns_reduce]\n",
    "df2.shape"
   ]
  },
  {
   "cell_type": "code",
   "execution_count": 12,
   "metadata": {},
   "outputs": [
    {
     "data": {
      "text/plain": [
       "[<matplotlib.lines.Line2D at 0x1bfc1e5c310>]"
      ]
     },
     "execution_count": 12,
     "metadata": {},
     "output_type": "execute_result"
    },
    {
     "data": {
      "image/png": "[encoded data removed]",
      "text/plain": [
       "<Figure size 432x288 with 1 Axes>"
      ]
     },
     "metadata": {
      "needs_background": "light"
     },
     "output_type": "display_data"
    }
   ],
   "source": [
    "df3 = df.groupby(['Short Month']).agg({'Emp ID':'count', 'Salary':'mean'}).reset_index()\n",
    "df3\n",
    "plt.plot(df3['Short Month'], df3['Salary'], 'r*', linestyle = \"--\")"
   ]
  },
  {
   "cell_type": "code",
   "execution_count": 58,
   "metadata": {},
   "outputs": [
    {
     "data": {
      "text/plain": [
       "[<matplotlib.lines.Line2D at 0x1b4f6a92850>]"
      ]
     },
     "execution_count": 58,
     "metadata": {},
     "output_type": "execute_result"
    },
    {
     "data": {
      "image/png": "[encoded data removed]",
      "text/plain": [
       "<Figure size 432x288 with 3 Axes>"
      ]
     },
     "metadata": {
      "needs_background": "light"
     },
     "output_type": "display_data"
    }
   ],
   "source": [
    "plt.subplot(2,2,1)\n",
    "plt.plot(df3['Short Month'], df3['Salary'], 'r*', linestyle = \"--\")\n",
    "plt.subplot(2,2,2)\n",
    "plt.plot(df3['Short Month'], df3['Salary'], 'r*', linestyle = \"--\")\n",
    "plt.subplot(2,2,3)\n",
    "plt.plot(df3['Short Month'], df3['Salary'], 'r*', linestyle = \"--\")"
   ]
  },
  {
   "cell_type": "code",
   "execution_count": 21,
   "metadata": {},
   "outputs": [
    {
     "data": {
      "text/plain": [
       "<BarContainer object of 50 artists>"
      ]
     },
     "execution_count": 21,
     "metadata": {},
     "output_type": "execute_result"
    },
    {
     "data": {
      "image/png": "[encoded data removed]",
      "text/plain": [
       "<Figure size 432x288 with 1 Axes>"
      ]
     },
     "metadata": {
      "needs_background": "light"
     },
     "output_type": "display_data"
    }
   ],
   "source": [
    "df4 = df.head(50)\n",
    "plt.bar(df4['Short Month'],df4['Age in Yrs.'],color=[\"r\"])\n",
    "plt.bar(df4['Short Month'],df4['Age in Company (Years)'], color=[\"g\"])"
   ]
  },
  {
   "cell_type": "code",
   "execution_count": 23,
   "metadata": {},
   "outputs": [
    {
     "data": {
      "text/plain": [
       "(array([17.,  6., 10.,  7.,  6.,  1.,  1.,  2.]),\n",
       " array([2.00000e-02, 4.73750e+00, 9.45500e+00, 1.41725e+01, 1.88900e+01,\n",
       "        2.36075e+01, 2.83250e+01, 3.30425e+01, 3.77600e+01]),\n",
       " <BarContainer object of 8 artists>)"
      ]
     },
     "execution_count": 23,
     "metadata": {},
     "output_type": "execute_result"
    },
    {
     "data": {
      "image/png": "[encoded data removed]",
      "text/plain": [
       "<Figure size 432x288 with 1 Axes>"
      ]
     },
     "metadata": {
      "needs_background": "light"
     },
     "output_type": "display_data"
    }
   ],
   "source": [
    "plt.hist(df4['Age in Company (Years)'], bins = 8)"
   ]
  },
  {
   "cell_type": "code",
   "execution_count": 98,
   "metadata": {},
   "outputs": [
    {
     "data": {
      "text/plain": [
       "{'whiskers': [<matplotlib.lines.Line2D at 0x1b49afcdd30>,\n",
       "  <matplotlib.lines.Line2D at 0x1b49afcdeb0>],\n",
       " 'caps': [<matplotlib.lines.Line2D at 0x1b49afdb7f0>,\n",
       "  <matplotlib.lines.Line2D at 0x1b49afdb250>],\n",
       " 'boxes': [<matplotlib.patches.PathPatch at 0x1b49afbad00>],\n",
       " 'medians': [<matplotlib.lines.Line2D at 0x1b49afec550>],\n",
       " 'fliers': [<matplotlib.lines.Line2D at 0x1b49affccd0>],\n",
       " 'means': []}"
      ]
     },
     "execution_count": 98,
     "metadata": {},
     "output_type": "execute_result"
    },
    {
     "data": {
      "image/png": "[encoded data removed]",
      "text/plain": [
       "<Figure size 432x288 with 1 Axes>"
      ]
     },
     "metadata": {
      "needs_background": "light"
     },
     "output_type": "display_data"
    }
   ],
   "source": [
    "plt.boxplot(df4['Salary'], patch_artist=True)"
   ]
  },
  {
   "cell_type": "code",
   "execution_count": 115,
   "metadata": {},
   "outputs": [
    {
     "data": {
      "text/plain": [
       "([<matplotlib.patches.Wedge at 0x1b49d0f8820>,\n",
       "  <matplotlib.patches.Wedge at 0x1b49d1074c0>,\n",
       "  <matplotlib.patches.Wedge at 0x1b49d118280>,\n",
       "  <matplotlib.patches.Wedge at 0x1b49d1262b0>,\n",
       "  <matplotlib.patches.Wedge at 0x1b49d138250>,\n",
       "  <matplotlib.patches.Wedge at 0x1b49d149790>,\n",
       "  <matplotlib.patches.Wedge at 0x1b49d157cd0>,\n",
       "  <matplotlib.patches.Wedge at 0x1b49d16af70>,\n",
       "  <matplotlib.patches.Wedge at 0x1b49d189fa0>,\n",
       "  <matplotlib.patches.Wedge at 0x1b49d198d60>],\n",
       " [Text(1.0943302849623529, 0.11154025019792546, 'Jul'),\n",
       "  Text(0.7988369875092478, 0.756213903196146, 'Jan'),\n",
       "  Text(0.04066596996065201, 1.0992480515730558, 'Sep'),\n",
       "  Text(-0.4630767185395555, 0.9977775066349398, 'Aug'),\n",
       "  Text(-0.842272175391373, 0.7075150758545604, 'Apr'),\n",
       "  Text(-1.0942039808444934, 0.11277255119958861, 'Aug'),\n",
       "  Text(-0.7849836690580985, -0.7705846087952224, 'Nov'),\n",
       "  Text(-0.12253272178284505, -1.0931540294452964, 'Nov'),\n",
       "  Text(0.7081291319217443, -0.8417559815788404, 'Mar'),\n",
       "  Text(1.0897344309416876, -0.14992955019006954, 'Apr')],\n",
       " [Text(0.5969074281612833, 0.060840136471595696, '3.2%'),\n",
       "  Text(0.43572926591413513, 0.4124803108342614, '17.7%'),\n",
       "  Text(0.022181438160355643, 0.5995898463125758, '7.0%'),\n",
       "  Text(-0.25258730102157567, 0.5442422763463307, '8.0%'),\n",
       "  Text(-0.4594211865771125, 0.3859173141024875, '6.0%'),\n",
       "  Text(-0.5968385350060872, 0.061512300654321055, '13.0%'),\n",
       "  Text(-0.4281729103953264, -0.42031887752466673, '15.0%'),\n",
       "  Text(-0.06683603006337002, -0.5962658342428889, '6.8%'),\n",
       "  Text(0.3862522537754968, -0.459139626315731, '19.0%'),\n",
       "  Text(0.5944005986954659, -0.08177975464912883, '4.4%')])"
      ]
     },
     "execution_count": 115,
     "metadata": {},
     "output_type": "execute_result"
    },
    {
     "data": {
      "image/png": "[encoded data removed]",
      "text/plain": [
       "<Figure size 432x288 with 1 Axes>"
      ]
     },
     "metadata": {},
     "output_type": "display_data"
    }
   ],
   "source": [
    "df5 = df.head(10)\n",
    "plt.pie(df5['Emp ID'], labels=df5['Short Month'], autopct='%1.1f%%')"
   ]
  },
  {
   "cell_type": "code",
   "execution_count": null,
   "metadata": {},
   "outputs": [],
   "source": []
  }
 ],
 "metadata": {
  "kernelspec": {
   "display_name": "Python 3",
   "language": "python",
   "name": "python3"
  },
  "language_info": {
   "codemirror_mode": {
    "name": "ipython",
    "version": 3
   },
   "file_extension": ".py",
   "mimetype": "text/x-python",
   "name": "python",
   "nbconvert_exporter": "python",
   "pygments_lexer": "ipython3",
   "version": "3.8.5"
  }
 },
 "nbformat": 4,
 "nbformat_minor": 4
}
