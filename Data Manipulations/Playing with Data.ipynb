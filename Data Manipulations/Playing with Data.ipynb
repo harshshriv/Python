{
 "cells": [
  {
   "cell_type": "code",
   "execution_count": 1,
   "metadata": {},
   "outputs": [],
   "source": [
    "import pandas as pd\n",
    "import numpy as np\n",
    "import os\n",
    "from datetime import datetime\n"
   ]
  },
  {
   "cell_type": "code",
   "execution_count": 2,
   "metadata": {},
   "outputs": [],
   "source": [
    "df_HR = pd.read_csv(\"HR Data.csv\")"
   ]
  },
  {
   "cell_type": "code",
   "execution_count": 3,
   "metadata": {},
   "outputs": [
    {
     "data": {
      "text/plain": [
       "Index(['Emp ID', 'Name Prefix', 'First Name', 'Middle Initial', 'Last Name',\n",
       "       'Gender', 'E Mail', 'Father's Name', 'Mother's Name',\n",
       "       'Mother's Maiden Name', 'Date of Birth', 'Time of Birth', 'Age in Yrs.',\n",
       "       'Weight in Kgs.', 'Date of Joining', 'Quarter of Joining',\n",
       "       'Half of Joining', 'Year of Joining', 'Month of Joining',\n",
       "       'Month Name of Joining', 'Short Month', 'Day of Joining',\n",
       "       'DOW of Joining', 'Short DOW', 'Age in Company (Years)', 'Salary',\n",
       "       'Last % Hike', 'SSN', 'Phone No. ', 'Place Name', 'County', 'City',\n",
       "       'State', 'Zip', 'Region', 'User Name', 'Password'],\n",
       "      dtype='object')"
      ]
     },
     "execution_count": 3,
     "metadata": {},
     "output_type": "execute_result"
    }
   ],
   "source": [
    "df_HR.columns"
   ]
  },
  {
   "cell_type": "markdown",
   "metadata": {},
   "source": [
    "### Checking Data Quality"
   ]
  },
  {
   "cell_type": "code",
   "execution_count": 4,
   "metadata": {},
   "outputs": [
    {
     "data": {
      "text/html": [
       "<div>\n",
       "<style scoped>\n",
       "    .dataframe tbody tr th:only-of-type {\n",
       "        vertical-align: middle;\n",
       "    }\n",
       "\n",
       "    .dataframe tbody tr th {\n",
       "        vertical-align: top;\n",
       "    }\n",
       "\n",
       "    .dataframe thead th {\n",
       "        text-align: right;\n",
       "    }\n",
       "</style>\n",
       "<table border=\"1\" class=\"dataframe\">\n",
       "  <thead>\n",
       "    <tr style=\"text-align: right;\">\n",
       "      <th></th>\n",
       "      <th>Emp ID</th>\n",
       "      <th>Age in Yrs.</th>\n",
       "      <th>Weight in Kgs.</th>\n",
       "      <th>Year of Joining</th>\n",
       "      <th>Month of Joining</th>\n",
       "      <th>Day of Joining</th>\n",
       "      <th>Age in Company (Years)</th>\n",
       "      <th>Salary</th>\n",
       "      <th>Zip</th>\n",
       "    </tr>\n",
       "  </thead>\n",
       "  <tbody>\n",
       "    <tr>\n",
       "      <th>count</th>\n",
       "      <td>50000.000000</td>\n",
       "      <td>50000.000000</td>\n",
       "      <td>50000.000000</td>\n",
       "      <td>50000.000000</td>\n",
       "      <td>50000.000000</td>\n",
       "      <td>50000.000000</td>\n",
       "      <td>50000.000000</td>\n",
       "      <td>50000.000000</td>\n",
       "      <td>50000.000000</td>\n",
       "    </tr>\n",
       "    <tr>\n",
       "      <th>mean</th>\n",
       "      <td>555457.763620</td>\n",
       "      <td>40.561104</td>\n",
       "      <td>59.982920</td>\n",
       "      <td>2007.306600</td>\n",
       "      <td>6.480380</td>\n",
       "      <td>15.736820</td>\n",
       "      <td>9.775455</td>\n",
       "      <td>120265.632920</td>\n",
       "      <td>49768.949760</td>\n",
       "    </tr>\n",
       "    <tr>\n",
       "      <th>std</th>\n",
       "      <td>255906.633279</td>\n",
       "      <td>11.272835</td>\n",
       "      <td>13.711586</td>\n",
       "      <td>8.602125</td>\n",
       "      <td>3.415472</td>\n",
       "      <td>8.780311</td>\n",
       "      <td>8.596988</td>\n",
       "      <td>46233.935072</td>\n",
       "      <td>27767.576807</td>\n",
       "    </tr>\n",
       "    <tr>\n",
       "      <th>min</th>\n",
       "      <td>111112.000000</td>\n",
       "      <td>21.000000</td>\n",
       "      <td>40.000000</td>\n",
       "      <td>1978.000000</td>\n",
       "      <td>1.000000</td>\n",
       "      <td>1.000000</td>\n",
       "      <td>0.000000</td>\n",
       "      <td>40002.000000</td>\n",
       "      <td>210.000000</td>\n",
       "    </tr>\n",
       "    <tr>\n",
       "      <th>25%</th>\n",
       "      <td>334764.250000</td>\n",
       "      <td>30.790000</td>\n",
       "      <td>50.000000</td>\n",
       "      <td>2002.000000</td>\n",
       "      <td>4.000000</td>\n",
       "      <td>8.000000</td>\n",
       "      <td>2.680000</td>\n",
       "      <td>80215.000000</td>\n",
       "      <td>26301.750000</td>\n",
       "    </tr>\n",
       "    <tr>\n",
       "      <th>50%</th>\n",
       "      <td>554324.500000</td>\n",
       "      <td>40.560000</td>\n",
       "      <td>57.000000</td>\n",
       "      <td>2010.000000</td>\n",
       "      <td>6.000000</td>\n",
       "      <td>16.000000</td>\n",
       "      <td>7.320000</td>\n",
       "      <td>120201.500000</td>\n",
       "      <td>48787.000000</td>\n",
       "    </tr>\n",
       "    <tr>\n",
       "      <th>75%</th>\n",
       "      <td>776663.250000</td>\n",
       "      <td>50.340000</td>\n",
       "      <td>70.000000</td>\n",
       "      <td>2014.000000</td>\n",
       "      <td>9.000000</td>\n",
       "      <td>23.000000</td>\n",
       "      <td>14.940000</td>\n",
       "      <td>160361.250000</td>\n",
       "      <td>73073.250000</td>\n",
       "    </tr>\n",
       "    <tr>\n",
       "      <th>max</th>\n",
       "      <td>999982.000000</td>\n",
       "      <td>60.000000</td>\n",
       "      <td>90.000000</td>\n",
       "      <td>2017.000000</td>\n",
       "      <td>12.000000</td>\n",
       "      <td>31.000000</td>\n",
       "      <td>38.700000</td>\n",
       "      <td>199998.000000</td>\n",
       "      <td>99950.000000</td>\n",
       "    </tr>\n",
       "  </tbody>\n",
       "</table>\n",
       "</div>"
      ],
      "text/plain": [
       "              Emp ID   Age in Yrs.  Weight in Kgs.  Year of Joining  \\\n",
       "count   50000.000000  50000.000000    50000.000000     50000.000000   \n",
       "mean   555457.763620     40.561104       59.982920      2007.306600   \n",
       "std    255906.633279     11.272835       13.711586         8.602125   \n",
       "min    111112.000000     21.000000       40.000000      1978.000000   \n",
       "25%    334764.250000     30.790000       50.000000      2002.000000   \n",
       "50%    554324.500000     40.560000       57.000000      2010.000000   \n",
       "75%    776663.250000     50.340000       70.000000      2014.000000   \n",
       "max    999982.000000     60.000000       90.000000      2017.000000   \n",
       "\n",
       "       Month of Joining  Day of Joining  Age in Company (Years)  \\\n",
       "count      50000.000000    50000.000000            50000.000000   \n",
       "mean           6.480380       15.736820                9.775455   \n",
       "std            3.415472        8.780311                8.596988   \n",
       "min            1.000000        1.000000                0.000000   \n",
       "25%            4.000000        8.000000                2.680000   \n",
       "50%            6.000000       16.000000                7.320000   \n",
       "75%            9.000000       23.000000               14.940000   \n",
       "max           12.000000       31.000000               38.700000   \n",
       "\n",
       "              Salary           Zip  \n",
       "count   50000.000000  50000.000000  \n",
       "mean   120265.632920  49768.949760  \n",
       "std     46233.935072  27767.576807  \n",
       "min     40002.000000    210.000000  \n",
       "25%     80215.000000  26301.750000  \n",
       "50%    120201.500000  48787.000000  \n",
       "75%    160361.250000  73073.250000  \n",
       "max    199998.000000  99950.000000  "
      ]
     },
     "execution_count": 4,
     "metadata": {},
     "output_type": "execute_result"
    }
   ],
   "source": [
    "df_HR.describe()"
   ]
  },
  {
   "cell_type": "code",
   "execution_count": 5,
   "metadata": {},
   "outputs": [
    {
     "data": {
      "text/plain": [
       "Emp ID                    0\n",
       "Name Prefix               0\n",
       "First Name                0\n",
       "Middle Initial            0\n",
       "Last Name                 0\n",
       "Gender                    0\n",
       "E Mail                    0\n",
       "Father's Name             0\n",
       "Mother's Name             0\n",
       "Mother's Maiden Name      0\n",
       "Date of Birth             0\n",
       "Time of Birth             0\n",
       "Age in Yrs.               0\n",
       "Weight in Kgs.            0\n",
       "Date of Joining           0\n",
       "Quarter of Joining        0\n",
       "Half of Joining           0\n",
       "Year of Joining           0\n",
       "Month of Joining          0\n",
       "Month Name of Joining     0\n",
       "Short Month               0\n",
       "Day of Joining            0\n",
       "DOW of Joining            0\n",
       "Short DOW                 0\n",
       "Age in Company (Years)    0\n",
       "Salary                    0\n",
       "Last % Hike               0\n",
       "SSN                       0\n",
       "Phone No.                 0\n",
       "Place Name                0\n",
       "County                    0\n",
       "City                      0\n",
       "State                     0\n",
       "Zip                       0\n",
       "Region                    0\n",
       "User Name                 0\n",
       "Password                  0\n",
       "dtype: int64"
      ]
     },
     "execution_count": 5,
     "metadata": {},
     "output_type": "execute_result"
    }
   ],
   "source": [
    "df_HR.isnull().sum()"
   ]
  },
  {
   "cell_type": "code",
   "execution_count": 6,
   "metadata": {},
   "outputs": [
    {
     "name": "stdout",
     "output_type": "stream",
     "text": [
      "<class 'pandas.core.frame.DataFrame'>\n",
      "RangeIndex: 50000 entries, 0 to 49999\n",
      "Data columns (total 37 columns):\n",
      " #   Column                  Non-Null Count  Dtype  \n",
      "---  ------                  --------------  -----  \n",
      " 0   Emp ID                  50000 non-null  int64  \n",
      " 1   Name Prefix             50000 non-null  object \n",
      " 2   First Name              50000 non-null  object \n",
      " 3   Middle Initial          50000 non-null  object \n",
      " 4   Last Name               50000 non-null  object \n",
      " 5   Gender                  50000 non-null  object \n",
      " 6   E Mail                  50000 non-null  object \n",
      " 7   Father's Name           50000 non-null  object \n",
      " 8   Mother's Name           50000 non-null  object \n",
      " 9   Mother's Maiden Name    50000 non-null  object \n",
      " 10  Date of Birth           50000 non-null  object \n",
      " 11  Time of Birth           50000 non-null  object \n",
      " 12  Age in Yrs.             50000 non-null  float64\n",
      " 13  Weight in Kgs.          50000 non-null  int64  \n",
      " 14  Date of Joining         50000 non-null  object \n",
      " 15  Quarter of Joining      50000 non-null  object \n",
      " 16  Half of Joining         50000 non-null  object \n",
      " 17  Year of Joining         50000 non-null  int64  \n",
      " 18  Month of Joining        50000 non-null  int64  \n",
      " 19  Month Name of Joining   50000 non-null  object \n",
      " 20  Short Month             50000 non-null  object \n",
      " 21  Day of Joining          50000 non-null  int64  \n",
      " 22  DOW of Joining          50000 non-null  object \n",
      " 23  Short DOW               50000 non-null  object \n",
      " 24  Age in Company (Years)  50000 non-null  float64\n",
      " 25  Salary                  50000 non-null  int64  \n",
      " 26  Last % Hike             50000 non-null  object \n",
      " 27  SSN                     50000 non-null  object \n",
      " 28  Phone No.               50000 non-null  object \n",
      " 29  Place Name              50000 non-null  object \n",
      " 30  County                  50000 non-null  object \n",
      " 31  City                    50000 non-null  object \n",
      " 32  State                   50000 non-null  object \n",
      " 33  Zip                     50000 non-null  int64  \n",
      " 34  Region                  50000 non-null  object \n",
      " 35  User Name               50000 non-null  object \n",
      " 36  Password                50000 non-null  object \n",
      "dtypes: float64(2), int64(7), object(28)\n",
      "memory usage: 14.1+ MB\n"
     ]
    }
   ],
   "source": [
    "df_HR.info()"
   ]
  },
  {
   "cell_type": "markdown",
   "metadata": {},
   "source": [
    "### Convert Datatypes"
   ]
  },
  {
   "cell_type": "code",
   "execution_count": 7,
   "metadata": {},
   "outputs": [],
   "source": [
    "df_HR['Date of Birth'] =  pd.to_datetime(df_HR['Date of Birth'])\n",
    "df_HR['Date of Joining'] = pd.to_datetime(df_HR['Date of Joining'])"
   ]
  },
  {
   "cell_type": "code",
   "execution_count": 11,
   "metadata": {},
   "outputs": [
    {
     "data": {
      "text/html": [
       "<div>\n",
       "<style scoped>\n",
       "    .dataframe tbody tr th:only-of-type {\n",
       "        vertical-align: middle;\n",
       "    }\n",
       "\n",
       "    .dataframe tbody tr th {\n",
       "        vertical-align: top;\n",
       "    }\n",
       "\n",
       "    .dataframe thead th {\n",
       "        text-align: right;\n",
       "    }\n",
       "</style>\n",
       "<table border=\"1\" class=\"dataframe\">\n",
       "  <thead>\n",
       "    <tr style=\"text-align: right;\">\n",
       "      <th></th>\n",
       "      <th>Emp ID</th>\n",
       "      <th>Name Prefix</th>\n",
       "      <th>First Name</th>\n",
       "      <th>Middle Initial</th>\n",
       "      <th>Last Name</th>\n",
       "      <th>Gender</th>\n",
       "      <th>E Mail</th>\n",
       "      <th>Father's Name</th>\n",
       "      <th>Mother's Name</th>\n",
       "      <th>Mother's Maiden Name</th>\n",
       "      <th>Date of Birth</th>\n",
       "      <th>Time of Birth</th>\n",
       "      <th>Age in Yrs.</th>\n",
       "      <th>Weight in Kgs.</th>\n",
       "      <th>Date of Joining</th>\n",
       "      <th>Quarter of Joining</th>\n",
       "      <th>Half of Joining</th>\n",
       "      <th>Year of Joining</th>\n",
       "      <th>Month of Joining</th>\n",
       "      <th>Month Name of Joining</th>\n",
       "      <th>Short Month</th>\n",
       "      <th>Day of Joining</th>\n",
       "      <th>DOW of Joining</th>\n",
       "      <th>Short DOW</th>\n",
       "      <th>Age in Company (Years)</th>\n",
       "      <th>Salary</th>\n",
       "      <th>Last % Hike</th>\n",
       "      <th>SSN</th>\n",
       "      <th>Phone No.</th>\n",
       "      <th>Place Name</th>\n",
       "      <th>County</th>\n",
       "      <th>City</th>\n",
       "      <th>State</th>\n",
       "      <th>Zip</th>\n",
       "      <th>Region</th>\n",
       "      <th>User Name</th>\n",
       "      <th>Password</th>\n",
       "    </tr>\n",
       "  </thead>\n",
       "  <tbody>\n",
       "    <tr>\n",
       "      <th>0</th>\n",
       "      <td>158108</td>\n",
       "      <td>Mr.</td>\n",
       "      <td>Bernard</td>\n",
       "      <td>N</td>\n",
       "      <td>Weatherly</td>\n",
       "      <td>M</td>\n",
       "      <td>bernard.weatherly@gmail.com</td>\n",
       "      <td>Wilbur Weatherly</td>\n",
       "      <td>Liana Weatherly</td>\n",
       "      <td>Grams</td>\n",
       "      <td>1961-08-19</td>\n",
       "      <td>08:27:47 PM</td>\n",
       "      <td>55.98</td>\n",
       "      <td>69</td>\n",
       "      <td>2017-07-21</td>\n",
       "      <td>Q3</td>\n",
       "      <td>H2</td>\n",
       "      <td>2017</td>\n",
       "      <td>7</td>\n",
       "      <td>July</td>\n",
       "      <td>Jul</td>\n",
       "      <td>21</td>\n",
       "      <td>Friday</td>\n",
       "      <td>Fri</td>\n",
       "      <td>0.02</td>\n",
       "      <td>81323</td>\n",
       "      <td>13%</td>\n",
       "      <td>701-18-3166</td>\n",
       "      <td>423-283-5871</td>\n",
       "      <td>Shelbyville</td>\n",
       "      <td>Bedford</td>\n",
       "      <td>Shelbyville</td>\n",
       "      <td>TN</td>\n",
       "      <td>37160</td>\n",
       "      <td>South</td>\n",
       "      <td>bnweatherly</td>\n",
       "      <td>Uzb4X[S_</td>\n",
       "    </tr>\n",
       "    <tr>\n",
       "      <th>1</th>\n",
       "      <td>863655</td>\n",
       "      <td>Ms.</td>\n",
       "      <td>Cordia</td>\n",
       "      <td>M</td>\n",
       "      <td>Knopp</td>\n",
       "      <td>F</td>\n",
       "      <td>cordia.knopp@hotmail.com</td>\n",
       "      <td>Wilson Knopp</td>\n",
       "      <td>Darline Knopp</td>\n",
       "      <td>Diana</td>\n",
       "      <td>1992-05-24</td>\n",
       "      <td>03:41:05 PM</td>\n",
       "      <td>25.19</td>\n",
       "      <td>59</td>\n",
       "      <td>2014-01-12</td>\n",
       "      <td>Q1</td>\n",
       "      <td>H1</td>\n",
       "      <td>2014</td>\n",
       "      <td>1</td>\n",
       "      <td>January</td>\n",
       "      <td>Jan</td>\n",
       "      <td>12</td>\n",
       "      <td>Sunday</td>\n",
       "      <td>Sun</td>\n",
       "      <td>3.54</td>\n",
       "      <td>169367</td>\n",
       "      <td>15%</td>\n",
       "      <td>115-98-5006</td>\n",
       "      <td>205-200-6563</td>\n",
       "      <td>Eight Mile</td>\n",
       "      <td>Mobile</td>\n",
       "      <td>Eight Mile</td>\n",
       "      <td>AL</td>\n",
       "      <td>36613</td>\n",
       "      <td>South</td>\n",
       "      <td>cmknopp</td>\n",
       "      <td>PH4:?}aHNCKt|</td>\n",
       "    </tr>\n",
       "    <tr>\n",
       "      <th>2</th>\n",
       "      <td>343966</td>\n",
       "      <td>Mr.</td>\n",
       "      <td>Burton</td>\n",
       "      <td>C</td>\n",
       "      <td>Jin</td>\n",
       "      <td>M</td>\n",
       "      <td>burton.jin@yahoo.com</td>\n",
       "      <td>Richard Jin</td>\n",
       "      <td>Willette Jin</td>\n",
       "      <td>Garcia</td>\n",
       "      <td>1976-03-02</td>\n",
       "      <td>08:55:07 AM</td>\n",
       "      <td>41.43</td>\n",
       "      <td>74</td>\n",
       "      <td>2004-09-24</td>\n",
       "      <td>Q3</td>\n",
       "      <td>H2</td>\n",
       "      <td>2004</td>\n",
       "      <td>9</td>\n",
       "      <td>September</td>\n",
       "      <td>Sep</td>\n",
       "      <td>24</td>\n",
       "      <td>Friday</td>\n",
       "      <td>Fri</td>\n",
       "      <td>12.85</td>\n",
       "      <td>142688</td>\n",
       "      <td>30%</td>\n",
       "      <td>176-86-8865</td>\n",
       "      <td>479-568-5620</td>\n",
       "      <td>Timbo</td>\n",
       "      <td>Stone</td>\n",
       "      <td>Timbo</td>\n",
       "      <td>AR</td>\n",
       "      <td>72680</td>\n",
       "      <td>South</td>\n",
       "      <td>bcjin</td>\n",
       "      <td>Pcm^Co4&gt;F*_beh</td>\n",
       "    </tr>\n",
       "    <tr>\n",
       "      <th>3</th>\n",
       "      <td>389958</td>\n",
       "      <td>Mr.</td>\n",
       "      <td>Lauren</td>\n",
       "      <td>O</td>\n",
       "      <td>Guzzi</td>\n",
       "      <td>M</td>\n",
       "      <td>lauren.guzzi@yahoo.com</td>\n",
       "      <td>Blair Guzzi</td>\n",
       "      <td>Shanika Guzzi</td>\n",
       "      <td>Beerman</td>\n",
       "      <td>1979-04-12</td>\n",
       "      <td>07:27:09 PM</td>\n",
       "      <td>38.32</td>\n",
       "      <td>76</td>\n",
       "      <td>2001-08-22</td>\n",
       "      <td>Q3</td>\n",
       "      <td>H2</td>\n",
       "      <td>2001</td>\n",
       "      <td>8</td>\n",
       "      <td>August</td>\n",
       "      <td>Aug</td>\n",
       "      <td>22</td>\n",
       "      <td>Wednesday</td>\n",
       "      <td>Wed</td>\n",
       "      <td>15.94</td>\n",
       "      <td>100371</td>\n",
       "      <td>1%</td>\n",
       "      <td>258-99-4279</td>\n",
       "      <td>216-582-0466</td>\n",
       "      <td>Bladensburg</td>\n",
       "      <td>Knox</td>\n",
       "      <td>Bladensburg</td>\n",
       "      <td>OH</td>\n",
       "      <td>43005</td>\n",
       "      <td>Midwest</td>\n",
       "      <td>loguzzi</td>\n",
       "      <td>Pl}odm_]</td>\n",
       "    </tr>\n",
       "    <tr>\n",
       "      <th>4</th>\n",
       "      <td>291208</td>\n",
       "      <td>Prof.</td>\n",
       "      <td>Carter</td>\n",
       "      <td>C</td>\n",
       "      <td>Hunt</td>\n",
       "      <td>M</td>\n",
       "      <td>carter.hunt@hotmail.com</td>\n",
       "      <td>Jamal Hunt</td>\n",
       "      <td>Kaila Hunt</td>\n",
       "      <td>Starrett</td>\n",
       "      <td>1965-11-08</td>\n",
       "      <td>10:18:42 PM</td>\n",
       "      <td>51.75</td>\n",
       "      <td>56</td>\n",
       "      <td>2014-04-22</td>\n",
       "      <td>Q2</td>\n",
       "      <td>H1</td>\n",
       "      <td>2014</td>\n",
       "      <td>4</td>\n",
       "      <td>April</td>\n",
       "      <td>Apr</td>\n",
       "      <td>22</td>\n",
       "      <td>Tuesday</td>\n",
       "      <td>Tue</td>\n",
       "      <td>3.27</td>\n",
       "      <td>104383</td>\n",
       "      <td>5%</td>\n",
       "      <td>469-57-4080</td>\n",
       "      <td>231-981-5020</td>\n",
       "      <td>Fruitport</td>\n",
       "      <td>Muskegon</td>\n",
       "      <td>Fruitport</td>\n",
       "      <td>MI</td>\n",
       "      <td>49415</td>\n",
       "      <td>Midwest</td>\n",
       "      <td>cchunt</td>\n",
       "      <td>g&lt;aoK0!d|38bX28</td>\n",
       "    </tr>\n",
       "  </tbody>\n",
       "</table>\n",
       "</div>"
      ],
      "text/plain": [
       "   Emp ID Name Prefix First Name Middle Initial  Last Name Gender  \\\n",
       "0  158108         Mr.    Bernard              N  Weatherly      M   \n",
       "1  863655         Ms.     Cordia              M      Knopp      F   \n",
       "2  343966         Mr.     Burton              C        Jin      M   \n",
       "3  389958         Mr.     Lauren              O      Guzzi      M   \n",
       "4  291208       Prof.     Carter              C       Hunt      M   \n",
       "\n",
       "                        E Mail     Father's Name    Mother's Name  \\\n",
       "0  bernard.weatherly@gmail.com  Wilbur Weatherly  Liana Weatherly   \n",
       "1     cordia.knopp@hotmail.com      Wilson Knopp    Darline Knopp   \n",
       "2         burton.jin@yahoo.com       Richard Jin     Willette Jin   \n",
       "3       lauren.guzzi@yahoo.com       Blair Guzzi    Shanika Guzzi   \n",
       "4      carter.hunt@hotmail.com        Jamal Hunt       Kaila Hunt   \n",
       "\n",
       "  Mother's Maiden Name Date of Birth Time of Birth  Age in Yrs.  \\\n",
       "0                Grams    1961-08-19   08:27:47 PM        55.98   \n",
       "1                Diana    1992-05-24   03:41:05 PM        25.19   \n",
       "2               Garcia    1976-03-02   08:55:07 AM        41.43   \n",
       "3              Beerman    1979-04-12   07:27:09 PM        38.32   \n",
       "4             Starrett    1965-11-08   10:18:42 PM        51.75   \n",
       "\n",
       "   Weight in Kgs. Date of Joining Quarter of Joining Half of Joining  \\\n",
       "0              69      2017-07-21                 Q3              H2   \n",
       "1              59      2014-01-12                 Q1              H1   \n",
       "2              74      2004-09-24                 Q3              H2   \n",
       "3              76      2001-08-22                 Q3              H2   \n",
       "4              56      2014-04-22                 Q2              H1   \n",
       "\n",
       "   Year of Joining  Month of Joining Month Name of Joining Short Month  \\\n",
       "0             2017                 7                  July         Jul   \n",
       "1             2014                 1               January         Jan   \n",
       "2             2004                 9             September         Sep   \n",
       "3             2001                 8                August         Aug   \n",
       "4             2014                 4                 April         Apr   \n",
       "\n",
       "   Day of Joining DOW of Joining Short DOW  Age in Company (Years)  Salary  \\\n",
       "0              21         Friday       Fri                    0.02   81323   \n",
       "1              12         Sunday       Sun                    3.54  169367   \n",
       "2              24         Friday       Fri                   12.85  142688   \n",
       "3              22      Wednesday       Wed                   15.94  100371   \n",
       "4              22        Tuesday       Tue                    3.27  104383   \n",
       "\n",
       "  Last % Hike          SSN    Phone No.    Place Name    County         City  \\\n",
       "0         13%  701-18-3166  423-283-5871  Shelbyville   Bedford  Shelbyville   \n",
       "1         15%  115-98-5006  205-200-6563   Eight Mile    Mobile   Eight Mile   \n",
       "2         30%  176-86-8865  479-568-5620        Timbo     Stone        Timbo   \n",
       "3          1%  258-99-4279  216-582-0466  Bladensburg      Knox  Bladensburg   \n",
       "4          5%  469-57-4080  231-981-5020    Fruitport  Muskegon    Fruitport   \n",
       "\n",
       "  State    Zip   Region    User Name         Password  \n",
       "0    TN  37160    South  bnweatherly         Uzb4X[S_  \n",
       "1    AL  36613    South      cmknopp    PH4:?}aHNCKt|  \n",
       "2    AR  72680    South        bcjin   Pcm^Co4>F*_beh  \n",
       "3    OH  43005  Midwest      loguzzi         Pl}odm_]  \n",
       "4    MI  49415  Midwest       cchunt  g<aoK0!d|38bX28  "
      ]
     },
     "execution_count": 11,
     "metadata": {},
     "output_type": "execute_result"
    }
   ],
   "source": [
    "pd.set_option('display.max_columns', None)\n",
    "df_HR.head()"
   ]
  },
  {
   "cell_type": "code",
   "execution_count": 9,
   "metadata": {},
   "outputs": [
    {
     "data": {
      "text/plain": [
       "Emp ID                    48675\n",
       "Name Prefix                   7\n",
       "First Name                 5154\n",
       "Middle Initial               26\n",
       "Last Name                 17537\n",
       "Gender                        2\n",
       "E Mail                    49998\n",
       "Father's Name             49981\n",
       "Mother's Name             50000\n",
       "Mother's Maiden Name      17483\n",
       "Date of Birth             13825\n",
       "Time of Birth             37835\n",
       "Age in Yrs.                3901\n",
       "Weight in Kgs.               51\n",
       "Date of Joining           11101\n",
       "Quarter of Joining            4\n",
       "Half of Joining               2\n",
       "Year of Joining              40\n",
       "Month of Joining             12\n",
       "Month Name of Joining        12\n",
       "Short Month                  12\n",
       "Day of Joining               31\n",
       "DOW of Joining                7\n",
       "Short DOW                     7\n",
       "Age in Company (Years)     3617\n",
       "Salary                    43005\n",
       "Last % Hike                  31\n",
       "SSN                       49926\n",
       "Phone No.                 50000\n",
       "Place Name                14552\n",
       "County                     2465\n",
       "City                      14552\n",
       "State                        51\n",
       "Zip                       29809\n",
       "Region                        4\n",
       "User Name                 49835\n",
       "Password                  50000\n",
       "dtype: int64"
      ]
     },
     "execution_count": 9,
     "metadata": {},
     "output_type": "execute_result"
    }
   ],
   "source": [
    "df_HR.nunique()"
   ]
  },
  {
   "cell_type": "code",
   "execution_count": 19,
   "metadata": {},
   "outputs": [],
   "source": [
    "coln = ['Emp ID', 'Name Prefix', 'First Name', 'Middle Initial', 'Last Name',\n",
    "       'Gender', 'E Mail', 'Father\\'s Name', 'Mother\\'s Name',\n",
    "       'Mother\\'s Maiden Name', 'Date of Birth', 'Time of Birth', 'Age in Yrs.',\n",
    "       'Weight in Kgs.', 'Date of Joining', 'Quarter of Joining',\n",
    "       'Half of Joining', 'Year of Joining', 'Month of Joining',\n",
    "       'Short Month', 'Day of Joining',\n",
    "       'DOW of Joining', 'Age in Company (Years)', 'Salary',\n",
    "       'Last % Hike', 'Place Name', 'County', 'City',\n",
    "       'State', 'Region']"
   ]
  },
  {
   "cell_type": "code",
   "execution_count": 26,
   "metadata": {},
   "outputs": [],
   "source": [
    "df_main = df_HR[coln]"
   ]
  },
  {
   "cell_type": "code",
   "execution_count": 28,
   "metadata": {},
   "outputs": [
    {
     "data": {
      "text/plain": [
       "(50000, 30)"
      ]
     },
     "execution_count": 28,
     "metadata": {},
     "output_type": "execute_result"
    }
   ],
   "source": [
    "df_main.shape"
   ]
  },
  {
   "cell_type": "markdown",
   "metadata": {},
   "source": [
    "# Data Visualization"
   ]
  },
  {
   "cell_type": "code",
   "execution_count": 30,
   "metadata": {},
   "outputs": [],
   "source": [
    "import matplotlib.pyplot as plt\n",
    "%matplotlib inline"
   ]
  },
  {
   "cell_type": "code",
   "execution_count": 40,
   "metadata": {},
   "outputs": [
    {
     "data": {
      "text/plain": [
       "Text(0.5, 1.0, 'Age vs Weight')"
      ]
     },
     "execution_count": 40,
     "metadata": {},
     "output_type": "execute_result"
    },
    {
     "data": {
      "image/png": "[encoded data removed]",
      "text/plain": [
       "<Figure size 432x288 with 1 Axes>"
      ]
     },
     "metadata": {
      "needs_background": "light"
     },
     "output_type": "display_data"
    }
   ],
   "source": [
    "df_test = df_main.head(50)\n",
    "plt.scatter(df_test['Age in Company (Years)'], df_test['Weight in Kgs.'],\n",
    "           c=\"r\")\n",
    "plt.xlabel('Age')\n",
    "plt.ylabel('Weight')\n",
    "plt.title('Age vs Weight')"
   ]
  },
  {
   "cell_type": "code",
   "execution_count": 70,
   "metadata": {},
   "outputs": [
    {
     "data": {
      "text/plain": [
       "[<matplotlib.lines.Line2D at 0x28d026735b0>]"
      ]
     },
     "execution_count": 70,
     "metadata": {},
     "output_type": "execute_result"
    },
    {
     "data": {
      "image/png": "[encoded data removed]",
      "text/plain": [
       "<Figure size 432x288 with 1 Axes>"
      ]
     },
     "metadata": {
      "needs_background": "light"
     },
     "output_type": "display_data"
    }
   ],
   "source": [
    "df_line = df_main.groupby(['Short Month']).agg({'Age in Company (Years)':'mean','Salary':'mean','Emp ID':'count'}).reset_index()\n",
    "plt.plot(df_line['Short Month'], df_line['Salary'],\"r*\",linestyle = \"--\")"
   ]
  },
  {
   "cell_type": "code",
   "execution_count": 78,
   "metadata": {},
   "outputs": [
    {
     "data": {
      "text/plain": [
       "[<matplotlib.lines.Line2D at 0x28d021a2fd0>]"
      ]
     },
     "execution_count": 78,
     "metadata": {},
     "output_type": "execute_result"
    },
    {
     "data": {
      "image/png": "[encoded data removed]",
      "text/plain": [
       "<Figure size 432x288 with 3 Axes>"
      ]
     },
     "metadata": {
      "needs_background": "light"
     },
     "output_type": "display_data"
    }
   ],
   "source": [
    "plt.subplot(2,2,1)\n",
    "plt.plot(df_line['Short Month'], df_line['Salary'],\"r*\",linestyle = \"--\")\n",
    "\n",
    "plt.subplot(2,2,2)\n",
    "plt.plot(df_line['Short Month'], df_line['Emp ID'],\"r*\",linestyle = \"--\")\n",
    "\n",
    "plt.subplot(2,2,3)\n",
    "plt.plot(df_line['Short Month'], df_line['Age in Company (Years)'],\"r*\",linestyle = \"--\")"
   ]
  },
  {
   "cell_type": "markdown",
   "metadata": {},
   "source": [
    "#### Bar"
   ]
  },
  {
   "cell_type": "code",
   "execution_count": 102,
   "metadata": {},
   "outputs": [
    {
     "data": {
      "text/plain": [
       "<BarContainer object of 12 artists>"
      ]
     },
     "execution_count": 102,
     "metadata": {},
     "output_type": "execute_result"
    },
    {
     "data": {
      "image/png": "[encoded data removed]",
      "text/plain": [
       "<Figure size 432x288 with 1 Axes>"
      ]
     },
     "metadata": {
      "needs_background": "light"
     },
     "output_type": "display_data"
    }
   ],
   "source": [
    "plt.bar(df_line['Short Month'], df_line['Emp ID'], color = \"r\")\n",
    "\n",
    "plt.bar(df_line['Short Month'], df_line['Emp ID']*.7, color = \"g\")"
   ]
  },
  {
   "cell_type": "code",
   "execution_count": 105,
   "metadata": {},
   "outputs": [
    {
     "data": {
      "text/plain": [
       "(array([2., 1., 2., 3., 2., 0., 1., 1.]),\n",
       " array([119392.66190361, 119636.31336357, 119879.96482352, 120123.61628348,\n",
       "        120367.26774343, 120610.91920339, 120854.57066335, 121098.2221233 ,\n",
       "        121341.87358326]),\n",
       " <BarContainer object of 8 artists>)"
      ]
     },
     "execution_count": 105,
     "metadata": {},
     "output_type": "execute_result"
    },
    {
     "data": {
      "image/png": "[encoded data removed]",
      "text/plain": [
       "<Figure size 432x288 with 1 Axes>"
      ]
     },
     "metadata": {
      "needs_background": "light"
     },
     "output_type": "display_data"
    }
   ],
   "source": [
    "plt.hist(df_line['Salary'], bins = 8)"
   ]
  },
  {
   "cell_type": "code",
   "execution_count": 119,
   "metadata": {},
   "outputs": [
    {
     "data": {
      "text/plain": [
       "{'whiskers': [<matplotlib.lines.Line2D at 0x28d06c7a940>,\n",
       "  <matplotlib.lines.Line2D at 0x28d06c7aca0>],\n",
       " 'caps': [<matplotlib.lines.Line2D at 0x28d06c8a070>,\n",
       "  <matplotlib.lines.Line2D at 0x28d06c8a3d0>],\n",
       " 'boxes': [<matplotlib.patches.PathPatch at 0x28d06c7a5e0>],\n",
       " 'medians': [<matplotlib.lines.Line2D at 0x28d06c8a730>],\n",
       " 'fliers': [<matplotlib.lines.Line2D at 0x28d06c8aa90>],\n",
       " 'means': []}"
      ]
     },
     "execution_count": 119,
     "metadata": {},
     "output_type": "execute_result"
    },
    {
     "data": {
      "image/png": "[encoded data removed]",
      "text/plain": [
       "<Figure size 432x288 with 1 Axes>"
      ]
     },
     "metadata": {
      "needs_background": "light"
     },
     "output_type": "display_data"
    }
   ],
   "source": [
    "plt.boxplot(df_main['Age in Company (Years)'],vert = True,patch_artist=True)"
   ]
  },
  {
   "cell_type": "code",
   "execution_count": 128,
   "metadata": {},
   "outputs": [
    {
     "data": {
      "text/plain": [
       "([<matplotlib.patches.Wedge at 0x28d06fedd60>,\n",
       "  <matplotlib.patches.Wedge at 0x28d06ffe4c0>,\n",
       "  <matplotlib.patches.Wedge at 0x28d06ffea90>,\n",
       "  <matplotlib.patches.Wedge at 0x28d0700a0d0>,\n",
       "  <matplotlib.patches.Wedge at 0x28d0700a6d0>,\n",
       "  <matplotlib.patches.Wedge at 0x28d0700acd0>,\n",
       "  <matplotlib.patches.Wedge at 0x28d0701a310>,\n",
       "  <matplotlib.patches.Wedge at 0x28d0701a910>,\n",
       "  <matplotlib.patches.Wedge at 0x28d0701af10>,\n",
       "  <matplotlib.patches.Wedge at 0x28d07028550>,\n",
       "  <matplotlib.patches.Wedge at 0x28d06fd3cd0>,\n",
       "  <matplotlib.patches.Wedge at 0x28d07038160>],\n",
       " [Text(1.0627089757000918, 0.28398879021268053, 'Apr'),\n",
       "  Text(0.7875301149299796, 0.7679819777041471, 'Aug'),\n",
       "  Text(0.3145809864213529, 1.0540582540743033, 'Dec'),\n",
       "  Text(-0.22854511213003317, 1.0759958790448367, 'Feb'),\n",
       "  Text(-0.7183788954367424, 0.8330256674263322, 'Jan'),\n",
       "  Text(-1.0473939602198734, 0.3361039900015028, 'Jul'),\n",
       "  Text(-1.0648373182400979, -0.27590122450477955, 'Jun'),\n",
       "  Text(-0.7701068926163469, -0.7854523371566187, 'Mar'),\n",
       "  Text(-0.24959318347737647, -1.0713091256783118, 'May'),\n",
       "  Text(0.33123043776704014, -1.048945373742911, 'Nov'),\n",
       "  Text(0.8038026429973996, -0.7509336263015495, 'Oct'),\n",
       "  Text(1.0668872740403057, -0.2678647877023884, 'Sep')],\n",
       " [Text(0.5796594412909591, 0.1549029764796439, '8%'),\n",
       "  Text(0.4295618808708979, 0.4188992605658984, '8%'),\n",
       "  Text(0.1715896289571016, 0.5749408658587108, '8%'),\n",
       "  Text(-0.12466097025274535, 0.5869068431153653, '8%'),\n",
       "  Text(-0.3918430338745867, 0.45437763677799936, '8%'),\n",
       "  Text(-0.5713057964835673, 0.1833294490917288, '9%'),\n",
       "  Text(-0.5808203554036896, -0.150491577002607, '9%'),\n",
       "  Text(-0.4200583050634619, -0.4284285475399738, '8%'),\n",
       "  Text(-0.13614173644220534, -0.5843504321881701, '9%'),\n",
       "  Text(0.18067114787293095, -0.5721520220415878, '8%'),\n",
       "  Text(0.4384378052713088, -0.40960015980084513, '8%'),\n",
       "  Text(0.581938513112894, -0.1461080660194846, '8%')])"
      ]
     },
     "execution_count": 128,
     "metadata": {},
     "output_type": "execute_result"
    },
    {
     "data": {
      "image/png": "[encoded data removed]",
      "text/plain": [
       "<Figure size 432x288 with 1 Axes>"
      ]
     },
     "metadata": {},
     "output_type": "display_data"
    }
   ],
   "source": [
    "plt.pie(df_line['Emp ID'],labels = df_line['Short Month'],\n",
    "       autopct = \"%1.0f%%\")"
   ]
  },
  {
   "cell_type": "code",
   "execution_count": null,
   "metadata": {},
   "outputs": [],
   "source": []
  }
 ],
 "metadata": {
  "kernelspec": {
   "display_name": "Python 3",
   "language": "python",
   "name": "python3"
  },
  "language_info": {
   "codemirror_mode": {
    "name": "ipython",
    "version": 3
   },
   "file_extension": ".py",
   "mimetype": "text/x-python",
   "name": "python",
   "nbconvert_exporter": "python",
   "pygments_lexer": "ipython3",
   "version": "3.8.3"
  }
 },
 "nbformat": 4,
 "nbformat_minor": 4
}
